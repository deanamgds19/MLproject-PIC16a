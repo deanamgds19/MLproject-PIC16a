{
 "cells": [
  {
   "cell_type": "markdown",
   "metadata": {},
   "source": [
    "# Homework 7\n",
    "- By: Deana Moghaddas\n",
    "- November 25th, 2020\n",
    "- I affirm that I personally wrote the text, code, and comments in this homework assignment"
   ]
  },
  {
   "cell_type": "code",
   "execution_count": 1,
   "metadata": {},
   "outputs": [],
   "source": [
    "import urllib\n",
    "import pandas as pd\n",
    "from matplotlib import pyplot as plt\n",
    "from sklearn import tree, preprocessing\n",
    "import numpy as np\n",
    "\n",
    "#load the data\n",
    "url = 'https://philchodrow.github.io/PIC16A/content/IO_and_modules/IO/palmer_penguins.csv'\n",
    "filedata = urllib.request.urlopen(url)\n",
    "with open('penguins.csv', 'wb') as f:\n",
    "    f.write(filedata.read())\n"
   ]
  },
  {
   "cell_type": "code",
   "execution_count": 2,
   "metadata": {},
   "outputs": [
    {
     "data": {
      "text/html": [
       "<div>\n",
       "<style scoped>\n",
       "    .dataframe tbody tr th:only-of-type {\n",
       "        vertical-align: middle;\n",
       "    }\n",
       "\n",
       "    .dataframe tbody tr th {\n",
       "        vertical-align: top;\n",
       "    }\n",
       "\n",
       "    .dataframe thead th {\n",
       "        text-align: right;\n",
       "    }\n",
       "</style>\n",
       "<table border=\"1\" class=\"dataframe\">\n",
       "  <thead>\n",
       "    <tr style=\"text-align: right;\">\n",
       "      <th></th>\n",
       "      <th>Species</th>\n",
       "      <th>Flipper Length (mm)</th>\n",
       "      <th>Body Mass (g)</th>\n",
       "      <th>Sex</th>\n",
       "    </tr>\n",
       "  </thead>\n",
       "  <tbody>\n",
       "    <tr>\n",
       "      <th>0</th>\n",
       "      <td>Adelie Penguin (Pygoscelis adeliae)</td>\n",
       "      <td>181.0</td>\n",
       "      <td>3750.0</td>\n",
       "      <td>MALE</td>\n",
       "    </tr>\n",
       "    <tr>\n",
       "      <th>1</th>\n",
       "      <td>Adelie Penguin (Pygoscelis adeliae)</td>\n",
       "      <td>186.0</td>\n",
       "      <td>3800.0</td>\n",
       "      <td>FEMALE</td>\n",
       "    </tr>\n",
       "    <tr>\n",
       "      <th>2</th>\n",
       "      <td>Adelie Penguin (Pygoscelis adeliae)</td>\n",
       "      <td>195.0</td>\n",
       "      <td>3250.0</td>\n",
       "      <td>FEMALE</td>\n",
       "    </tr>\n",
       "    <tr>\n",
       "      <th>4</th>\n",
       "      <td>Adelie Penguin (Pygoscelis adeliae)</td>\n",
       "      <td>193.0</td>\n",
       "      <td>3450.0</td>\n",
       "      <td>FEMALE</td>\n",
       "    </tr>\n",
       "    <tr>\n",
       "      <th>5</th>\n",
       "      <td>Adelie Penguin (Pygoscelis adeliae)</td>\n",
       "      <td>190.0</td>\n",
       "      <td>3650.0</td>\n",
       "      <td>MALE</td>\n",
       "    </tr>\n",
       "    <tr>\n",
       "      <th>...</th>\n",
       "      <td>...</td>\n",
       "      <td>...</td>\n",
       "      <td>...</td>\n",
       "      <td>...</td>\n",
       "    </tr>\n",
       "    <tr>\n",
       "      <th>338</th>\n",
       "      <td>Gentoo penguin (Pygoscelis papua)</td>\n",
       "      <td>214.0</td>\n",
       "      <td>4925.0</td>\n",
       "      <td>FEMALE</td>\n",
       "    </tr>\n",
       "    <tr>\n",
       "      <th>340</th>\n",
       "      <td>Gentoo penguin (Pygoscelis papua)</td>\n",
       "      <td>215.0</td>\n",
       "      <td>4850.0</td>\n",
       "      <td>FEMALE</td>\n",
       "    </tr>\n",
       "    <tr>\n",
       "      <th>341</th>\n",
       "      <td>Gentoo penguin (Pygoscelis papua)</td>\n",
       "      <td>222.0</td>\n",
       "      <td>5750.0</td>\n",
       "      <td>MALE</td>\n",
       "    </tr>\n",
       "    <tr>\n",
       "      <th>342</th>\n",
       "      <td>Gentoo penguin (Pygoscelis papua)</td>\n",
       "      <td>212.0</td>\n",
       "      <td>5200.0</td>\n",
       "      <td>FEMALE</td>\n",
       "    </tr>\n",
       "    <tr>\n",
       "      <th>343</th>\n",
       "      <td>Gentoo penguin (Pygoscelis papua)</td>\n",
       "      <td>213.0</td>\n",
       "      <td>5400.0</td>\n",
       "      <td>MALE</td>\n",
       "    </tr>\n",
       "  </tbody>\n",
       "</table>\n",
       "<p>334 rows × 4 columns</p>\n",
       "</div>"
      ],
      "text/plain": [
       "                                 Species  Flipper Length (mm)  Body Mass (g)  \\\n",
       "0    Adelie Penguin (Pygoscelis adeliae)                181.0         3750.0   \n",
       "1    Adelie Penguin (Pygoscelis adeliae)                186.0         3800.0   \n",
       "2    Adelie Penguin (Pygoscelis adeliae)                195.0         3250.0   \n",
       "4    Adelie Penguin (Pygoscelis adeliae)                193.0         3450.0   \n",
       "5    Adelie Penguin (Pygoscelis adeliae)                190.0         3650.0   \n",
       "..                                   ...                  ...            ...   \n",
       "338    Gentoo penguin (Pygoscelis papua)                214.0         4925.0   \n",
       "340    Gentoo penguin (Pygoscelis papua)                215.0         4850.0   \n",
       "341    Gentoo penguin (Pygoscelis papua)                222.0         5750.0   \n",
       "342    Gentoo penguin (Pygoscelis papua)                212.0         5200.0   \n",
       "343    Gentoo penguin (Pygoscelis papua)                213.0         5400.0   \n",
       "\n",
       "        Sex  \n",
       "0      MALE  \n",
       "1    FEMALE  \n",
       "2    FEMALE  \n",
       "4    FEMALE  \n",
       "5      MALE  \n",
       "..      ...  \n",
       "338  FEMALE  \n",
       "340  FEMALE  \n",
       "341    MALE  \n",
       "342  FEMALE  \n",
       "343    MALE  \n",
       "\n",
       "[334 rows x 4 columns]"
      ]
     },
     "execution_count": 2,
     "metadata": {},
     "output_type": "execute_result"
    }
   ],
   "source": [
    "penguins = pd.read_csv(\"penguins.csv\") #read in penguin data\n",
    "penguins = penguins[[\"Species\", \"Flipper Length (mm)\", \"Body Mass (g)\", \"Sex\"]] #index 4 columns\n",
    "penguins = penguins.dropna() #drop all rows with missing information\n",
    "penguins"
   ]
  },
  {
   "cell_type": "markdown",
   "metadata": {},
   "source": [
    "I loaded the data and indexed the data frame to only include my columns of interest; Species, Flipper Length, Body Mass and Sex. I then dropped all rows with missing information so that I don't encounter any issues with them down the line."
   ]
  },
  {
   "cell_type": "code",
   "execution_count": 3,
   "metadata": {},
   "outputs": [
    {
     "data": {
      "text/plain": [
       "(     Flipper Length (mm)  Body Mass (g)     Sex\n",
       " 0                  181.0         3750.0    MALE\n",
       " 1                  186.0         3800.0  FEMALE\n",
       " 2                  195.0         3250.0  FEMALE\n",
       " 4                  193.0         3450.0  FEMALE\n",
       " 5                  190.0         3650.0    MALE\n",
       " ..                   ...            ...     ...\n",
       " 338                214.0         4925.0  FEMALE\n",
       " 340                215.0         4850.0  FEMALE\n",
       " 341                222.0         5750.0    MALE\n",
       " 342                212.0         5200.0  FEMALE\n",
       " 343                213.0         5400.0    MALE\n",
       " \n",
       " [334 rows x 3 columns],\n",
       " 0      Adelie Penguin (Pygoscelis adeliae)\n",
       " 1      Adelie Penguin (Pygoscelis adeliae)\n",
       " 2      Adelie Penguin (Pygoscelis adeliae)\n",
       " 4      Adelie Penguin (Pygoscelis adeliae)\n",
       " 5      Adelie Penguin (Pygoscelis adeliae)\n",
       "                       ...                 \n",
       " 338      Gentoo penguin (Pygoscelis papua)\n",
       " 340      Gentoo penguin (Pygoscelis papua)\n",
       " 341      Gentoo penguin (Pygoscelis papua)\n",
       " 342      Gentoo penguin (Pygoscelis papua)\n",
       " 343      Gentoo penguin (Pygoscelis papua)\n",
       " Name: Species, Length: 334, dtype: object)"
      ]
     },
     "execution_count": 3,
     "metadata": {},
     "output_type": "execute_result"
    }
   ],
   "source": [
    "from sklearn.model_selection import train_test_split\n",
    "\n",
    "X = penguins.drop([\"Species\"], axis = 1) #contain predictor variables - all columns but 'Species'\n",
    "y = penguins[\"Species\"] #contain target variable - 'Species' column\n",
    "X, y"
   ]
  },
  {
   "cell_type": "markdown",
   "metadata": {},
   "source": [
    "To train my model, I first need to split my dataset into \"predictor\" and \"target\" variables. Predictor variables are the information my model uses to make the predictions, which are the target variables. Hence, because I am trying to predict Species, I index my dataframe to only include the \"Species\" column for my target variable and include every column but the \"Species\" column for my predictor variables."
   ]
  },
  {
   "cell_type": "code",
   "execution_count": 4,
   "metadata": {},
   "outputs": [
    {
     "data": {
      "text/html": [
       "<div>\n",
       "<style scoped>\n",
       "    .dataframe tbody tr th:only-of-type {\n",
       "        vertical-align: middle;\n",
       "    }\n",
       "\n",
       "    .dataframe tbody tr th {\n",
       "        vertical-align: top;\n",
       "    }\n",
       "\n",
       "    .dataframe thead th {\n",
       "        text-align: right;\n",
       "    }\n",
       "</style>\n",
       "<table border=\"1\" class=\"dataframe\">\n",
       "  <thead>\n",
       "    <tr style=\"text-align: right;\">\n",
       "      <th></th>\n",
       "      <th>Flipper Length (mm)</th>\n",
       "      <th>Body Mass (g)</th>\n",
       "      <th>Sex</th>\n",
       "    </tr>\n",
       "  </thead>\n",
       "  <tbody>\n",
       "    <tr>\n",
       "      <th>67</th>\n",
       "      <td>188.0</td>\n",
       "      <td>4100.0</td>\n",
       "      <td>MALE</td>\n",
       "    </tr>\n",
       "    <tr>\n",
       "      <th>1</th>\n",
       "      <td>186.0</td>\n",
       "      <td>3800.0</td>\n",
       "      <td>FEMALE</td>\n",
       "    </tr>\n",
       "    <tr>\n",
       "      <th>303</th>\n",
       "      <td>224.0</td>\n",
       "      <td>5350.0</td>\n",
       "      <td>MALE</td>\n",
       "    </tr>\n",
       "    <tr>\n",
       "      <th>130</th>\n",
       "      <td>190.0</td>\n",
       "      <td>3325.0</td>\n",
       "      <td>FEMALE</td>\n",
       "    </tr>\n",
       "    <tr>\n",
       "      <th>341</th>\n",
       "      <td>222.0</td>\n",
       "      <td>5750.0</td>\n",
       "      <td>MALE</td>\n",
       "    </tr>\n",
       "    <tr>\n",
       "      <th>...</th>\n",
       "      <td>...</td>\n",
       "      <td>...</td>\n",
       "      <td>...</td>\n",
       "    </tr>\n",
       "    <tr>\n",
       "      <th>101</th>\n",
       "      <td>203.0</td>\n",
       "      <td>4725.0</td>\n",
       "      <td>MALE</td>\n",
       "    </tr>\n",
       "    <tr>\n",
       "      <th>55</th>\n",
       "      <td>191.0</td>\n",
       "      <td>3700.0</td>\n",
       "      <td>MALE</td>\n",
       "    </tr>\n",
       "    <tr>\n",
       "      <th>314</th>\n",
       "      <td>214.0</td>\n",
       "      <td>4850.0</td>\n",
       "      <td>FEMALE</td>\n",
       "    </tr>\n",
       "    <tr>\n",
       "      <th>312</th>\n",
       "      <td>212.0</td>\n",
       "      <td>4750.0</td>\n",
       "      <td>FEMALE</td>\n",
       "    </tr>\n",
       "    <tr>\n",
       "      <th>177</th>\n",
       "      <td>197.0</td>\n",
       "      <td>4150.0</td>\n",
       "      <td>MALE</td>\n",
       "    </tr>\n",
       "  </tbody>\n",
       "</table>\n",
       "<p>67 rows × 3 columns</p>\n",
       "</div>"
      ],
      "text/plain": [
       "     Flipper Length (mm)  Body Mass (g)     Sex\n",
       "67                 188.0         4100.0    MALE\n",
       "1                  186.0         3800.0  FEMALE\n",
       "303                224.0         5350.0    MALE\n",
       "130                190.0         3325.0  FEMALE\n",
       "341                222.0         5750.0    MALE\n",
       "..                   ...            ...     ...\n",
       "101                203.0         4725.0    MALE\n",
       "55                 191.0         3700.0    MALE\n",
       "314                214.0         4850.0  FEMALE\n",
       "312                212.0         4750.0  FEMALE\n",
       "177                197.0         4150.0    MALE\n",
       "\n",
       "[67 rows x 3 columns]"
      ]
     },
     "execution_count": 4,
     "metadata": {},
     "output_type": "execute_result"
    }
   ],
   "source": [
    "X_train, X_test, y_train, y_test = train_test_split(X, y, test_size = 0.2) #80% of data allocated to training, 20% to testing: split both X and y (predictor and target variables)\n",
    "X_train, X_test, y_train, y_test\n",
    "X_test"
   ]
  },
  {
   "cell_type": "markdown",
   "metadata": {},
   "source": [
    "To train and test my model, I need to split my predictor variable dataframe and target variable dataframe into training and testing datasets. This allows me to train my model with a subset of the predictor and target variables and then test my model with another typically smaller subset of predictor and target variables. I decided to allocate 80% of predictor/target data to training and the remaining 20% to testing."
   ]
  },
  {
   "cell_type": "code",
   "execution_count": 5,
   "metadata": {},
   "outputs": [],
   "source": [
    "def clean_penguin(Xx, yy):\n",
    "    cX = Xx.copy() #copy of training data\n",
    "    cy = yy.copy() #copy of test data\n",
    "\n",
    "    le = preprocessing.LabelEncoder() #create LabelEncoder object\n",
    "    cX[\"Sex\"] = le.fit_transform(cX[\"Sex\"]) #change males and females to 1's and 0's\n",
    "    cy = le.fit_transform(cy) #give each unique species a number\n",
    "    \n",
    "    return(cX, cy)\n",
    "\n",
    "\n",
    "X_train, y_train = clean_penguin(X_train, y_train) #clean dataframes X_train and y_train\n",
    "X_test, y_test = clean_penguin(X_test, y_test) #clean dataframes X_test and y_test"
   ]
  },
  {
   "cell_type": "markdown",
   "metadata": {},
   "source": [
    "I wrote a function to prepare my data for the tasks at hand. Specifically, I encoded the Sex column within the X dataframe (predictor variables) so male/female would instead be represented by integers 1/0; this is easier for the model to work with. I similarily encoded the Y dataframe (target variable) so that Species, its sole column, would be represented by integers 0/1/2 instead of Adelie/Chinstrap/Gentoo for the same purpose."
   ]
  },
  {
   "cell_type": "code",
   "execution_count": 6,
   "metadata": {
    "scrolled": false
   },
   "outputs": [
    {
     "name": "stdout",
     "output_type": "stream",
     "text": [
      "0.7645299145299145 0.009495747873936967\n"
     ]
    },
    {
     "data": {
      "image/png": "[encoded data removed]",
      "text/plain": [
       "<Figure size 432x288 with 1 Axes>"
      ]
     },
     "metadata": {
      "needs_background": "light"
     },
     "output_type": "display_data"
    }
   ],
   "source": [
    "from sklearn.model_selection import cross_val_score\n",
    "from sklearn.svm import SVC\n",
    "\n",
    "\n",
    "best_score = 0\n",
    "best_gamma = 0\n",
    "\n",
    "fig, ax = plt.subplots(1)\n",
    "\n",
    "for g in np.linspace(0.001, 1, 2000):  #iterate over values for g in order to find optimal gamma parameter\n",
    "    sv = SVC(gamma = g) #instantiate SVC model\n",
    "    cv_score = cross_val_score(sv, X_train, y_train, cv = 10).mean() #get mean of 10-fold cross validation\n",
    "    ax.scatter(g, cv_score, color = \"blue\") #plot gamma parameter against cv score\n",
    "    if cv_score > best_score: \n",
    "        best_score = cv_score #keep track of optimal cv score\n",
    "        best_gamma = g #keep track of optimal gamma parameter\n",
    "\n",
    "print(best_score, best_gamma)\n",
    "                "
   ]
  },
  {
   "cell_type": "markdown",
   "metadata": {},
   "source": [
    "At this point, I am at the part of the process where I want to determine the optimal complexity of the model that is controlled by the gamma parameter within the SVC model. Cross validation using the cross_val_score() function allows me to get a picture of how my model might perform on real data, or in this case my test set. I iterated over a range of numbers and kept track of the best cross validation score and the corresponding gamma parameter that contributed to it. After iterating through 2000 possible parameters, I end up with my \"optimal\" cv score and gamma parameter with an accompanying graph displaying cv scores across different gamma values.\n",
    "\n",
    "Specifically, I chose to test cv-scores/gamma parameters within the interval [0.001, 1] because through exploration with different ranges of intervals, I came to realize\n",
    "that increasing the gamma parameter resulted in lower cv scores on both training and test data. At this point,\n",
    "after testing a large range of gamma values up to 10000, I concluded that numbers past 1 only resulted in lower\n",
    "cv scores. Knowing this, I attempted to decrease the gamma parameter even past 0.001 as this appeared to be the correct trend, however this resulted in lower cv scores as well. Hence, a gamma parameter around 0.01 appears to be the happy medium and the optimal parameter for my model."
   ]
  },
  {
   "cell_type": "code",
   "execution_count": 7,
   "metadata": {},
   "outputs": [
    {
     "data": {
      "text/plain": [
       "(0.8951310861423221, 0.7014925373134329)"
      ]
     },
     "execution_count": 7,
     "metadata": {},
     "output_type": "execute_result"
    }
   ],
   "source": [
    "sv = SVC(gamma = 0.009495747873936967) #make SVC model with \"optimal\" gamma parameter\n",
    "sv.fit(X_train, y_train) #fit model\n",
    "sv.score(X_train, y_train), sv.score(X_test, y_test) #score model accuracy"
   ]
  },
  {
   "cell_type": "markdown",
   "metadata": {},
   "source": [
    "I scored relatively accurate with my predictor/target training data and optimal gamma parameter, and got a score that wasn't too far away with my predictor/target testing data. Because I had tried several other gamma parameters using different intervals for cross validation that all resulted in lower scores, I decided to move on with this gamma value."
   ]
  },
  {
   "cell_type": "code",
   "execution_count": 8,
   "metadata": {},
   "outputs": [
    {
     "data": {
      "text/plain": [
       "array([[117,   3,   0],\n",
       "       [ 21,  30,   3],\n",
       "       [  0,   1,  92]])"
      ]
     },
     "execution_count": 8,
     "metadata": {},
     "output_type": "execute_result"
    }
   ],
   "source": [
    "#for species: 0 = Adelie, 1 = Chinstrap, 2 = Gentoo\n",
    "from sklearn.metrics import confusion_matrix\n",
    "\n",
    "y_train_pred = sv.predict(X_train) #target variable predictions according to training data\n",
    "\n",
    "c = confusion_matrix(y_train, y_train_pred) #matrix displaying number of correctly/incorrectly predicted species\n",
    "c \n"
   ]
  },
  {
   "cell_type": "markdown",
   "metadata": {},
   "source": [
    "The confusion matrix indicates the number of correctly predicted species along its diagonal and the number of incorrectly predicted species among its other entries. According to the matrix, there were 31 times when the model\n",
    "incorrectly predicted an Adelie instead of the actual species, Chinstrap, and 1 time when the model incorrectly predicted an Adelie instead of a Gentoo. Furthermore, there were 2 times when the model incorrectly predicted a Chinstrap instead of an Adelie and 1 time when the model incorrectly predicted a Chinstrap instead of a Gentoo. The model also incorrectly predicted 3 Gentoos instead of the correct species, Chinstrap."
   ]
  },
  {
   "cell_type": "code",
   "execution_count": 9,
   "metadata": {},
   "outputs": [
    {
     "data": {
      "text/plain": [
       "(array([0, 2, 1, 0, 0, 0, 0, 1, 0, 2, 0, 1, 0, 0, 0, 0, 0, 0, 0, 1, 2, 0,\n",
       "        0, 0, 0, 0, 0, 0]),\n",
       " array([1, 1, 0, 1, 1, 1, 1, 2, 1, 1, 1, 0, 1, 1, 1, 1, 1, 1, 1, 0, 1, 1,\n",
       "        1, 1, 1, 1, 1, 1]),\n",
       "      Flipper Length (mm)  Body Mass (g)  Sex\n",
       " 172                181.0         3600.0    0\n",
       " 191                205.0         4500.0    1\n",
       " 53                 200.0         4050.0    1\n",
       " 171                195.0         4400.0    1\n",
       " 156                197.0         3725.0    1\n",
       " 164                185.0         3700.0    0\n",
       " 204                193.0         3600.0    0\n",
       " 260                208.0         3950.0    0\n",
       " 215                207.0         4000.0    1\n",
       " 189                210.0         4800.0    1\n",
       " 180                191.0         3700.0    0\n",
       " 145                185.0         3650.0    1\n",
       " 186                195.0         3600.0    1\n",
       " 182                187.0         3200.0    0\n",
       " 174                187.0         2900.0    0\n",
       " 152                192.0         3500.0    0\n",
       " 194                196.0         3550.0    1\n",
       " 153                196.0         3900.0    1\n",
       " 195                196.0         3500.0    0\n",
       " 117                199.0         3775.0    1\n",
       " 197                201.0         4450.0    1\n",
       " 160                195.0         4150.0    0\n",
       " 183                201.0         4300.0    1\n",
       " 161                198.0         3700.0    1\n",
       " 170                190.0         3450.0    0\n",
       " 169                181.0         3700.0    0\n",
       " 206                187.0         3350.0    0\n",
       " 184                187.0         3350.0    0)"
      ]
     },
     "execution_count": 9,
     "metadata": {},
     "output_type": "execute_result"
    }
   ],
   "source": [
    "mistakes = X_train[y_train != y_train_pred] #get information for penguins that are incorrectly predicted\n",
    "mistake_labels = y_train[y_train != y_train_pred] #true species of incorrectly predicted penguins\n",
    "mistake_preds = y_train_pred[y_train != y_train_pred] #predicted species of incorrectly predicted penguins\n",
    "\n",
    "mistake_preds, mistake_labels, mistakes"
   ]
  },
  {
   "cell_type": "markdown",
   "metadata": {},
   "source": [
    "My model results in 38 incorrect predictions. The majority of mistakes within this model include Chinstraps that are incorrectly predicted as Adelies, apparent both within the confusion matrix and when observing the incorrect predictions against what actually should have been predicted, i.e. 0 (Adelie) is predicted when it should be 0 (Chinstrap). According to the measurements of the penguins that were incorectly predicted, the penguins that were predicted as Adelie but should have been Chinstrap were all had very similar measurements for body mass and flipper length, indicating that these measurements were most likely all very similar to the measurements of a standard Adelie penguin and hence predicted incorrectly. There were also several other incorrectly predicted penguins that most likely share this same trait as well."
   ]
  },
  {
   "cell_type": "code",
   "execution_count": null,
   "metadata": {},
   "outputs": [],
   "source": []
  }
 ],
 "metadata": {
  "kernelspec": {
   "display_name": "Python 3",
   "language": "python",
   "name": "python3"
  },
  "language_info": {
   "codemirror_mode": {
    "name": "ipython",
    "version": 3
   },
   "file_extension": ".py",
   "mimetype": "text/x-python",
   "name": "python",
   "nbconvert_exporter": "python",
   "pygments_lexer": "ipython3",
   "version": "3.8.3"
  }
 },
 "nbformat": 4,
 "nbformat_minor": 4
}
